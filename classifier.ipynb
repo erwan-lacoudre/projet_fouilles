{
 "cells": [
  {
   "cell_type": "code",
   "execution_count": 1,
   "metadata": {},
   "outputs": [],
   "source": [
    "import pandas as pd\n",
    "import numpy as np\n",
    "import matplotlib.pyplot as plt\n",
    "import seaborn as sns; sns.set()\n",
    "%matplotlib inline"
   ]
  },
  {
   "cell_type": "code",
   "execution_count": 2,
   "metadata": {},
   "outputs": [],
   "source": [
    "df = pd.read_csv('Spotify-2000.csv', index_col=0)"
   ]
  },
  {
   "cell_type": "code",
   "execution_count": 17,
   "metadata": {},
   "outputs": [],
   "source": [
    "df_t = df[df[\"Top Genre\"].str.contains(\"rock\")]"
   ]
  },
  {
   "cell_type": "code",
   "execution_count": 10,
   "metadata": {},
   "outputs": [
    {
     "data": {
      "text/plain": [
       "album rock                     413\n",
       "alternative rock                86\n",
       "dance rock                      52\n",
       "classic rock                    51\n",
       "glam rock                       49\n",
       "modern rock                     49\n",
       "art rock                        40\n",
       "irish rock                      34\n",
       "dutch rock                      18\n",
       "blues rock                      15\n",
       "belgian rock                     8\n",
       "celtic rock                      7\n",
       "alternative pop rock             7\n",
       "modern folk rock                 7\n",
       "garage rock                      4\n",
       "australian rock                  3\n",
       "danish pop rock                  2\n",
       "british alternative rock         2\n",
       "german pop rock                  1\n",
       "canadian rock                    1\n",
       "german alternative rock          1\n",
       "soft rock                        1\n",
       "yacht rock                       1\n",
       "classic canadian rock            1\n",
       "rock-and-roll                    1\n",
       "australian alternative rock      1\n",
       "classical rock                   1\n",
       "hard rock                        1\n",
       "Name: Top Genre, dtype: int64"
      ]
     },
     "execution_count": 10,
     "metadata": {},
     "output_type": "execute_result"
    }
   ],
   "source": [
    "df_t.value_counts()"
   ]
  },
  {
   "cell_type": "code",
   "execution_count": 24,
   "metadata": {},
   "outputs": [],
   "source": [
    "t_rock = df_t[df_t[\"Top Genre\"].str.contains(\"album rock\")][\"Acousticness\"].mean()"
   ]
  },
  {
   "cell_type": "code",
   "execution_count": 52,
   "metadata": {},
   "outputs": [
    {
     "name": "stdout",
     "output_type": "stream",
     "text": [
      "Energy 68.68888888888888 total 62.17269544924154\n",
      "Danceability 48.922222222222224 total 51.924154025670944\n",
      "Liveness 19.633333333333333 total 19.081680280046676\n",
      "Valence 46.63333333333333 total 51.64994165694282\n",
      "Acousticness 14.3 total 24.096849474912485\n",
      "Popularity 65.42222222222222 total 60.74445740956826\n"
     ]
    }
   ],
   "source": [
    "top_genre = [\"album rock\",\"alternative rock\",\"dance rock\",\"classic rock\",\"glam rock\",\"modern rock\",\"art rock\",\"irish rock\",\"dutch rock\",\"blues rock\"]\n",
    "top_val = ['Energy', 'Danceability', 'Liveness', 'Valence', 'Acousticness', 'Popularity']\n",
    "\n",
    "for v in top_val:\n",
    "    print(v,df_t[df_t[\"Top Genre\"].str.contains(\"alternative rock\")][v].mean(),\"total\",df_t[v].mean())"
   ]
  },
  {
   "cell_type": "code",
   "execution_count": null,
   "metadata": {},
   "outputs": [],
   "source": []
  }
 ],
 "metadata": {
  "kernelspec": {
   "display_name": "Python 3.8.8 ('base')",
   "language": "python",
   "name": "python3"
  },
  "language_info": {
   "codemirror_mode": {
    "name": "ipython",
    "version": 3
   },
   "file_extension": ".py",
   "mimetype": "text/x-python",
   "name": "python",
   "nbconvert_exporter": "python",
   "pygments_lexer": "ipython3",
   "version": "3.8.8"
  },
  "orig_nbformat": 4,
  "vscode": {
   "interpreter": {
    "hash": "356d512bcc389e865b44622b3a41431d1080877e063af7abff8374af748e682e"
   }
  }
 },
 "nbformat": 4,
 "nbformat_minor": 2
}
