{
 "cells": [
  {
   "cell_type": "code",
   "execution_count": 3,
   "metadata": {},
   "outputs": [],
   "source": [
    "import math\n",
    "import pandas as pd"
   ]
  },
  {
   "cell_type": "code",
   "execution_count": 21,
   "metadata": {},
   "outputs": [],
   "source": [
    "df = pd.read_csv('train.csv', index_col=0)\n",
    "train_x = df[[\"Energy\",\"Danceability\",\"Liveness\",\"Valence\",\"Acousticness\",\"Speechiness\",\"Popularity\"]]\n",
    "train_y = df[[\"Rock\",\"Hip-hop\",\"Cabaret\",\"Soul\",\"Standards\",\"Metal\",\"Indie\",\"Pop\",\"Wave\",\"Invasion\"]]"
   ]
  },
  {
   "cell_type": "code",
   "execution_count": 4,
   "metadata": {},
   "outputs": [],
   "source": [
    "def simple_distance(data1, data2):\n",
    "    \"\"\"Computes the Euclidian distance between data1 and data2.\n",
    "    Args:\n",
    "    data1: a list of numbers: the coordinates of the first vector.\n",
    "    data2: a list of numbers: the coordinates of the second vector (same length as data1).\n",
    "    Returns:\n",
    "    The Euclidian distance: sqrt(sum((data1[i]-data2[i])^2)).\n",
    "    \"\"\"\n",
    "    sum_euclidian = 0\n",
    "    for i in range(len(data1)):\n",
    "        if type(data1[i]) == str:\n",
    "            pass\n",
    "        else:\n",
    "            sum_euclidian += math.pow((int(data1[i])-int(data2[i])),2)\n",
    "    return math.sqrt(sum_euclidian)"
   ]
  },
  {
   "cell_type": "code",
   "execution_count": 25,
   "metadata": {},
   "outputs": [],
   "source": [
    "def index_max(list):\n",
    "    sorted_list = list.copy()\n",
    "    sorted_list.sort()\n",
    "    sorted_index_list = []\n",
    "    for i in range(len(sorted_list)):\n",
    "        sorted_index_list.append(list.index(sorted_list[i]))\n",
    "    return sorted_index_list\n",
    "\n",
    "def k_nearest_neighbors(x, points, dist_function, k):\n",
    "    \"\"\"Returns the indices of the k elements of \"points\" that are closest to \"x\".\n",
    "    Args:\n",
    "    x: a list of numbers: a N-dimensional vector.\n",
    "    points: a list of list of numbers: a list of N-dimensional vectors.\n",
    "    dist_function: a function taking two N-dimensional vectors as\n",
    "    arguments and returning a number. Just like simple_distance.\n",
    "    k: an integer. Must be smaller or equal to the length of \"points\".\n",
    "    Returns:\n",
    "    A list of integers: the indices of the k elements of \"points\" that are\n",
    "    closest to \"x\" according to the distance function dist_function.\n",
    "    IMPORTANT: They must be sorted by distance: nearest neighbor first.\n",
    "    \"\"\"\n",
    "    if k > len(points):\n",
    "        return \"ERROR : K is too big, it must be smaller or equal to the length of points\"\n",
    "    distance_list = []\n",
    "    for i in range(len(points)):\n",
    "        distance_list.append(dist_function(x,points.iloc[i]))\n",
    "    index_list = index_max(distance_list)\n",
    "    return index_list[:k]"
   ]
  },
  {
   "cell_type": "code",
   "execution_count": 7,
   "metadata": {},
   "outputs": [
    {
     "data": {
      "text/plain": [
       "135.20355024924456"
      ]
     },
     "execution_count": 7,
     "metadata": {},
     "output_type": "execute_result"
    }
   ],
   "source": [
    "simple_distance(df.iloc[1],df.iloc[2])"
   ]
  },
  {
   "cell_type": "code",
   "execution_count": 33,
   "metadata": {},
   "outputs": [
    {
     "data": {
      "text/plain": [
       "[2]"
      ]
     },
     "execution_count": 33,
     "metadata": {},
     "output_type": "execute_result"
    }
   ],
   "source": [
    "k_nearest_neighbors(train_x.iloc[0],train_x.iloc[2:5],simple_distance,1)"
   ]
  },
  {
   "cell_type": "code",
   "execution_count": 36,
   "metadata": {},
   "outputs": [
    {
     "data": {
      "text/plain": [
       "114.88254871824527"
      ]
     },
     "execution_count": 36,
     "metadata": {},
     "output_type": "execute_result"
    }
   ],
   "source": [
    "simple_distance(train_x.iloc[0],train_x.iloc[5])"
   ]
  },
  {
   "cell_type": "code",
   "execution_count": 32,
   "metadata": {},
   "outputs": [
    {
     "data": {
      "text/plain": [
       "Energy          79\n",
       "Danceability    50\n",
       "Liveness        17\n",
       "Valence         81\n",
       "Acousticness    17\n",
       "Speechiness      7\n",
       "Popularity      39\n",
       "Name: 2, dtype: int64"
      ]
     },
     "execution_count": 32,
     "metadata": {},
     "output_type": "execute_result"
    }
   ],
   "source": [
    "train_x.iloc[0]"
   ]
  },
  {
   "cell_type": "code",
   "execution_count": null,
   "metadata": {},
   "outputs": [],
   "source": []
  }
 ],
 "metadata": {
  "kernelspec": {
   "display_name": "Python 3.8.8 ('base')",
   "language": "python",
   "name": "python3"
  },
  "language_info": {
   "codemirror_mode": {
    "name": "ipython",
    "version": 3
   },
   "file_extension": ".py",
   "mimetype": "text/x-python",
   "name": "python",
   "nbconvert_exporter": "python",
   "pygments_lexer": "ipython3",
   "version": "3.8.8"
  },
  "orig_nbformat": 4,
  "vscode": {
   "interpreter": {
    "hash": "356d512bcc389e865b44622b3a41431d1080877e063af7abff8374af748e682e"
   }
  }
 },
 "nbformat": 4,
 "nbformat_minor": 2
}
