{
 "cells": [
  {
   "cell_type": "code",
   "execution_count": 11,
   "metadata": {},
   "outputs": [],
   "source": [
    "import math\n",
    "import pandas as pd\n",
    "from sklearn.neighbors import KNeighborsClassifier\n",
    "from sklearn.model_selection import KFold"
   ]
  },
  {
   "cell_type": "code",
   "execution_count": 4,
   "metadata": {},
   "outputs": [],
   "source": [
    "df = pd.read_csv('train.csv', index_col=0)\n",
    "train_x = df[[\"Energy\",\"Danceability\",\"Liveness\",\"Valence\",\"Acousticness\",\"Speechiness\",\"Popularity\"]]\n",
    "train_y = df[[\"Rock\",\"Hip-hop\",\"Cabaret\",\"Soul\",\"Standards\",\"Metal\",\"Indie\",\"Pop\",\"Wave\",\"Invasion\"]]\n",
    "\n",
    "df_test = pd.read_csv('test.csv', index_col=0)\n",
    "test_x = df_test[[\"Energy\",\"Danceability\",\"Liveness\",\"Valence\",\"Acousticness\",\"Speechiness\",\"Popularity\"]]\n",
    "test_y = df_test[[\"Rock\",\"Hip-hop\",\"Cabaret\",\"Soul\",\"Standards\",\"Metal\",\"Indie\",\"Pop\",\"Wave\",\"Invasion\"]]"
   ]
  },
  {
   "cell_type": "code",
   "execution_count": 5,
   "metadata": {},
   "outputs": [],
   "source": [
    "def simple_distance(data1, data2):\n",
    "    \"\"\"Computes the Euclidian distance between data1 and data2.\n",
    "    Args:\n",
    "    data1: a list of numbers: the coordinates of the first vector.\n",
    "    data2: a list of numbers: the coordinates of the second vector (same length as data1).\n",
    "    Returns:\n",
    "    The Euclidian distance: sqrt(sum((data1[i]-data2[i])^2)).\n",
    "    \"\"\"\n",
    "    sum_euclidian = 0\n",
    "    for i in range(len(data1)):\n",
    "        if type(data1[i]) == str:\n",
    "            pass\n",
    "        else:\n",
    "            sum_euclidian += math.pow((int(data1[i])-int(data2[i])),2)\n",
    "    return math.sqrt(sum_euclidian)"
   ]
  },
  {
   "cell_type": "code",
   "execution_count": 13,
   "metadata": {},
   "outputs": [
    {
     "data": {
      "text/plain": [
       "0.3619047619047619"
      ]
     },
     "execution_count": 13,
     "metadata": {},
     "output_type": "execute_result"
    }
   ],
   "source": [
    "def classifier(train_x, train_y, test_x, test_y, k):\n",
    "    knn = KNeighborsClassifier(n_neighbors=k, weights='distance')\n",
    "    knn.fit(X=train_x, y=train_y)\n",
    "    return knn.score(test_x,test_y)\n",
    "\n",
    "classifier(train_x, train_y, test_x, test_y, 5)"
   ]
  },
  {
   "cell_type": "code",
   "execution_count": 23,
   "metadata": {},
   "outputs": [
    {
     "data": {
      "text/plain": [
       "0.33867641544806903"
      ]
     },
     "execution_count": 23,
     "metadata": {},
     "output_type": "execute_result"
    }
   ],
   "source": [
    "def cross_validation():\n",
    "    num_splits = 10\n",
    "    folds = KFold(n_splits=num_splits)\n",
    "\n",
    "    sum_score = 0\n",
    "    for train_index, test_index in folds.split(train_x):\n",
    "#       train = df.iloc[result[0]]\n",
    "#       test =  df.iloc[result[1]]\n",
    "        X_train, X_test = train_x.iloc[train_index], train_x.iloc[test_index]\n",
    "        y_train, y_test = train_y.iloc[train_index], train_y.iloc[test_index]\n",
    "        sum_score += classifier(X_train, y_train, X_test, y_test, 10)\n",
    "\n",
    "    return sum_score/num_splits\n",
    "\n",
    "cross_validation()"
   ]
  },
  {
   "cell_type": "code",
   "execution_count": 7,
   "metadata": {},
   "outputs": [
    {
     "data": {
      "text/plain": [
       "135.20355024924456"
      ]
     },
     "execution_count": 7,
     "metadata": {},
     "output_type": "execute_result"
    }
   ],
   "source": [
    "simple_distance(df.iloc[1],df.iloc[2])"
   ]
  },
  {
   "cell_type": "code",
   "execution_count": 33,
   "metadata": {},
   "outputs": [
    {
     "data": {
      "text/plain": [
       "[2]"
      ]
     },
     "execution_count": 33,
     "metadata": {},
     "output_type": "execute_result"
    }
   ],
   "source": [
    "k_nearest_neighbors(train_x.iloc[0],train_x.iloc[2:5],simple_distance,1)"
   ]
  },
  {
   "cell_type": "code",
   "execution_count": 36,
   "metadata": {},
   "outputs": [
    {
     "data": {
      "text/plain": [
       "114.88254871824527"
      ]
     },
     "execution_count": 36,
     "metadata": {},
     "output_type": "execute_result"
    }
   ],
   "source": [
    "simple_distance(train_x.iloc[0],train_x.iloc[5])"
   ]
  },
  {
   "cell_type": "code",
   "execution_count": 32,
   "metadata": {},
   "outputs": [
    {
     "data": {
      "text/plain": [
       "Energy          79\n",
       "Danceability    50\n",
       "Liveness        17\n",
       "Valence         81\n",
       "Acousticness    17\n",
       "Speechiness      7\n",
       "Popularity      39\n",
       "Name: 2, dtype: int64"
      ]
     },
     "execution_count": 32,
     "metadata": {},
     "output_type": "execute_result"
    }
   ],
   "source": [
    "train_x.iloc[0]"
   ]
  },
  {
   "cell_type": "code",
   "execution_count": null,
   "metadata": {},
   "outputs": [],
   "source": []
  }
 ],
 "metadata": {
  "kernelspec": {
   "display_name": "Python 3",
   "language": "python",
   "name": "python3"
  },
  "language_info": {
   "codemirror_mode": {
    "name": "ipython",
    "version": 3
   },
   "file_extension": ".py",
   "mimetype": "text/x-python",
   "name": "python",
   "nbconvert_exporter": "python",
   "pygments_lexer": "ipython3",
   "version": "3.9.13"
  },
  "orig_nbformat": 4,
  "vscode": {
   "interpreter": {
    "hash": "aee8b7b246df8f9039afb4144a1f6fd8d2ca17a180786b69acc140d282b71a49"
   }
  }
 },
 "nbformat": 4,
 "nbformat_minor": 2
}
