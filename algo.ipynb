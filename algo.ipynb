{
 "cells": [
  {
   "cell_type": "markdown",
   "metadata": {},
   "source": [
    "#### Imports"
   ]
  },
  {
   "cell_type": "code",
   "execution_count": 68,
   "metadata": {},
   "outputs": [],
   "source": [
    "import pandas as pd\n",
    "import math\n",
    "\n",
    "from sklearn.linear_model import LogisticRegression\n",
    "from sklearn.neighbors import KNeighborsClassifier\n",
    "from sklearn.naive_bayes import GaussianNB\n",
    "\n",
    "from sklearn import metrics\n",
    "from sklearn.model_selection import KFold"
   ]
  },
  {
   "cell_type": "markdown",
   "metadata": {},
   "source": [
    "#### Import DataFrame"
   ]
  },
  {
   "cell_type": "code",
   "execution_count": 69,
   "metadata": {},
   "outputs": [],
   "source": [
    "df = pd.read_csv('train.csv', index_col=0)\n",
    "train_x = df[[\"Energy\",\"Danceability\",\"Liveness\",\"Valence\",\"Acousticness\",\"Speechiness\",\"Popularity\"]]\n",
    "train_y = df[[\"Rock\",\"Pop\",\"Standards\",\"Metal\",\"Indie\",\"Cabaret\",\"Soul\",\"Wave\",\"Invasion\",\"Hip-hop\"]]"
   ]
  },
  {
   "cell_type": "markdown",
   "metadata": {},
   "source": [
    "#### Model training"
   ]
  },
  {
   "cell_type": "code",
   "execution_count": 70,
   "metadata": {},
   "outputs": [],
   "source": [
    "def train_classifier(x_train,y_train,x_test,y_test,model):\n",
    "    avg_accuracy = 0\n",
    "    avg_precision = 0\n",
    "    avg_recall = 0\n",
    "    for i in range (len(y_train.columns)):\n",
    "        model.fit(x_train,y_train.iloc[:,i])\n",
    "        len_class = sum(y_train.iloc[:,i])\n",
    "        y_pred = model.predict(x_test)\n",
    "        avg_accuracy += len_class * metrics.accuracy_score(y_test[[y_train.columns[i]]],y_pred)\n",
    "        avg_precision += len_class * metrics.precision_score(y_test[[y_train.columns[i]]],y_pred,zero_division=0)\n",
    "        avg_recall += len_class * metrics.recall_score(y_test[[y_train.columns[i]]],y_pred,zero_division=0)\n",
    "    return (avg_accuracy/y_train.shape[0],avg_precision/y_train.shape[0],avg_recall/y_train.shape[0])"
   ]
  },
  {
   "cell_type": "markdown",
   "metadata": {},
   "source": [
    "#### Cross-Validation"
   ]
  },
  {
   "cell_type": "code",
   "execution_count": 71,
   "metadata": {},
   "outputs": [],
   "source": [
    "def cross_validation(model):\n",
    "    num_splits = 10\n",
    "    folds = KFold(n_splits=num_splits)\n",
    "\n",
    "    sum_accu,sum_pre,sum_rec = 0,0,0\n",
    "\n",
    "    #Le train x ici est celui du dataset d'entrainement complet\n",
    "    for train_index,test_index in folds.split(train_x):\n",
    "        X_train, X_test = train_x.iloc[train_index],train_x.iloc[test_index]\n",
    "        Y_train, Y_test = train_y.iloc[train_index],train_y.iloc[test_index]\n",
    "\n",
    "        metrics = train_classifier(X_train,Y_train,X_test,Y_test,model)\n",
    "        sum_accu += metrics[0]\n",
    "        sum_pre += metrics[1]\n",
    "        sum_rec += metrics[2]\n",
    "\n",
    "    return (sum_accu/num_splits,sum_pre/num_splits,sum_rec/num_splits)\n"
   ]
  },
  {
   "cell_type": "markdown",
   "metadata": {},
   "source": [
    "#### Find best k (for K Nearest Neighbors)"
   ]
  },
  {
   "cell_type": "code",
   "execution_count": 72,
   "metadata": {},
   "outputs": [],
   "source": [
    "# TODO : Réparer la fonction\n",
    "\n",
    "def sampled_range(mini, maxi, num):\n",
    "  if not num:\n",
    "    return []\n",
    "  lmini = math.log(mini)\n",
    "  lmaxi = math.log(maxi)\n",
    "  ldelta = (lmaxi - lmini) / (num - 1)\n",
    "  out = [x for x in set([int(math.exp(lmini + i * ldelta)) for i in range(num)])]\n",
    "  out.sort()\n",
    "  return out\n",
    "\n",
    "def find_best_k():\n",
    "  tested_k_values = sampled_range(1, 1000, 10)\n",
    "  max_accuracy, best_k = 0, 0\n",
    "  for k in tested_k_values:\n",
    "    model = KNeighborsClassifier(n_neighbors=k,weights='distance')\n",
    "    accuracy = cross_validation(model)\n",
    "    if max_accuracy < accuracy:\n",
    "      max_accuracy = accuracy\n",
    "      best_k = k\n",
    "  return best_k"
   ]
  },
  {
   "cell_type": "markdown",
   "metadata": {},
   "source": [
    "#### Models"
   ]
  },
  {
   "cell_type": "code",
   "execution_count": 73,
   "metadata": {},
   "outputs": [],
   "source": [
    "best_k = 10\n",
    "knn = KNeighborsClassifier(n_neighbors=best_k,weights='distance')\n",
    "reg = LogisticRegression(random_state=0)\n",
    "bay = GaussianNB()\n",
    "\n",
    "models = [knn,reg,bay]"
   ]
  },
  {
   "cell_type": "markdown",
   "metadata": {},
   "source": [
    "#### Launch training"
   ]
  },
  {
   "cell_type": "code",
   "execution_count": 74,
   "metadata": {},
   "outputs": [
    {
     "name": "stdout",
     "output_type": "stream",
     "text": [
      "KNeighborsClassifier(n_neighbors=10, weights='distance') (0.7193885823009276, 0.38923501965299223, 0.34135902815180796)\n",
      "LogisticRegression(random_state=0) (0.7170956316461423, 0.323991643426657, 0.3343489468452267)\n",
      "GaussianNB() (0.7169199830197437, 0.38856750070664847, 0.4003895417792195)\n"
     ]
    }
   ],
   "source": [
    "for model in models:\n",
    "    print(model,cross_validation(model))"
   ]
  },
  {
   "cell_type": "code",
   "execution_count": null,
   "metadata": {},
   "outputs": [],
   "source": []
  }
 ],
 "metadata": {
  "kernelspec": {
   "display_name": "Python 3.8.8 ('base')",
   "language": "python",
   "name": "python3"
  },
  "language_info": {
   "codemirror_mode": {
    "name": "ipython",
    "version": 3
   },
   "file_extension": ".py",
   "mimetype": "text/x-python",
   "name": "python",
   "nbconvert_exporter": "python",
   "pygments_lexer": "ipython3",
   "version": "3.8.8"
  },
  "orig_nbformat": 4,
  "vscode": {
   "interpreter": {
    "hash": "356d512bcc389e865b44622b3a41431d1080877e063af7abff8374af748e682e"
   }
  }
 },
 "nbformat": 4,
 "nbformat_minor": 2
}
