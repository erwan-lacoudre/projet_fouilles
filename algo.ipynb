{
 "cells": [
  {
   "cell_type": "markdown",
   "metadata": {},
   "source": [
    "#### Imports"
   ]
  },
  {
   "cell_type": "code",
   "execution_count": 20,
   "metadata": {},
   "outputs": [],
   "source": [
    "import pandas as pd\n",
    "import math\n",
    "\n",
    "from sklearn.linear_model import LogisticRegression\n",
    "from sklearn.neighbors import KNeighborsClassifier\n",
    "from sklearn.naive_bayes import GaussianNB\n",
    "from sklearn.svm import SVC\n",
    "\n",
    "from sklearn import metrics\n",
    "from sklearn.model_selection import KFold"
   ]
  },
  {
   "cell_type": "markdown",
   "metadata": {},
   "source": [
    "#### Import DataFrame"
   ]
  },
  {
   "cell_type": "code",
   "execution_count": 21,
   "metadata": {},
   "outputs": [],
   "source": [
    "df = pd.read_csv('train.csv', index_col=0)\n",
    "train_x = df[[\"Energy\",\"Danceability\",\"Liveness\",\"Valence\",\"Acousticness\",\"Speechiness\",\"Popularity\"]]\n",
    "train_y = df[[\"Rock\",\"Pop\",\"Standards\",\"Metal\",\"Indie\",\"Cabaret\",\"Soul\",\"Wave\",\"Invasion\",\"Hip-hop\"]]\n",
    "\n",
    "df_test = pd.read_csv('test_copy.csv', index_col=0)\n",
    "test_x = df_test[[\"Energy\",\"Danceability\",\"Liveness\",\"Valence\",\"Acousticness\",\"Speechiness\",\"Popularity\"]]\n",
    "test_y = df_test[[\"Rock\",\"Pop\",\"Standards\",\"Metal\",\"Indie\",\"Cabaret\",\"Soul\",\"Wave\",\"Invasion\",\"Hip-hop\"]]"
   ]
  },
  {
   "cell_type": "markdown",
   "metadata": {},
   "source": [
    "#### Model training"
   ]
  },
  {
   "cell_type": "code",
   "execution_count": 62,
   "metadata": {},
   "outputs": [],
   "source": [
    "def train_classifier(x_train,y_train,x_test,y_test,model):\n",
    "    avg_accuracy = 0\n",
    "    avg_precision = 0\n",
    "    avg_recall = 0\n",
    "    for i in range (len(y_train.columns)):\n",
    "        model.fit(x_train,y_train.iloc[:,i])\n",
    "        len_class = sum(y_train.iloc[:,i])\n",
    "        y_pred = model.predict(x_test)\n",
    "        avg_accuracy += len_class * metrics.accuracy_score(y_test[[y_train.columns[i]]],y_pred)\n",
    "        avg_precision += len_class * metrics.precision_score(y_test[[y_train.columns[i]]],y_pred,zero_division=0)\n",
    "        avg_recall += len_class * metrics.recall_score(y_test[[y_train.columns[i]]],y_pred,zero_division=0)\n",
    "    return (avg_accuracy/y_train.shape[0],avg_precision/y_train.shape[0],avg_recall/y_train.shape[0])"
   ]
  },
  {
   "cell_type": "markdown",
   "metadata": {},
   "source": [
    "#### Mini_Classifier to test some columns and outputs"
   ]
  },
  {
   "cell_type": "code",
   "execution_count": 23,
   "metadata": {},
   "outputs": [
    {
     "name": "stdout",
     "output_type": "stream",
     "text": [
      "[0 1]\n",
      "Index\n",
      "7    0\n",
      "8    1\n",
      "Name: Rock, dtype: int64\n",
      "[0 0]\n",
      "Index\n",
      "7    1\n",
      "8    0\n",
      "Name: Pop, dtype: int64\n",
      "[0 0]\n",
      "Index\n",
      "7    0\n",
      "8    0\n",
      "Name: Standards, dtype: int64\n",
      "[0 0]\n",
      "Index\n",
      "7    0\n",
      "8    0\n",
      "Name: Metal, dtype: int64\n",
      "[0 0]\n",
      "Index\n",
      "7    0\n",
      "8    0\n",
      "Name: Indie, dtype: int64\n",
      "[0 0]\n",
      "Index\n",
      "7    0\n",
      "8    0\n",
      "Name: Cabaret, dtype: int64\n",
      "[0 0]\n",
      "Index\n",
      "7    0\n",
      "8    0\n",
      "Name: Soul, dtype: int64\n",
      "[0 0]\n",
      "Index\n",
      "7    0\n",
      "8    0\n",
      "Name: Wave, dtype: int64\n",
      "[0 0]\n",
      "Index\n",
      "7    0\n",
      "8    0\n",
      "Name: Invasion, dtype: int64\n",
      "[0 0]\n",
      "Index\n",
      "7    0\n",
      "8    0\n",
      "Name: Hip-hop, dtype: int64\n"
     ]
    }
   ],
   "source": [
    "def mini_classifier(x_train,y_train,x_test,y_test,model):\n",
    "    for i in range (len(y_train.columns)):\n",
    "        model.fit(x_train,y_train.iloc[:,i])\n",
    "        y_pred = model.predict(x_test)\n",
    "        print(y_pred)\n",
    "        print(y_test.iloc[:,i])\n",
    "\n",
    "best_k = 10\n",
    "knn = KNeighborsClassifier(n_neighbors=best_k,weights='distance')\n",
    "reg = LogisticRegression(random_state=0)\n",
    "bay = GaussianNB()\n",
    "mini_classifier(train_x,train_y,test_x,test_y,knn)"
   ]
  },
  {
   "cell_type": "markdown",
   "metadata": {},
   "source": [
    "#### Cross-Validation"
   ]
  },
  {
   "cell_type": "code",
   "execution_count": 59,
   "metadata": {},
   "outputs": [],
   "source": [
    "def cross_validation(model):\n",
    "    num_splits = 10\n",
    "    folds = KFold(n_splits=num_splits)\n",
    "\n",
    "    sum_accu,sum_pre,sum_rec = 0,0,0\n",
    "\n",
    "    # Train_x here is the full training dataset\n",
    "    for train_index,test_index in folds.split(train_x):\n",
    "        X_train, X_test = train_x.iloc[train_index],train_x.iloc[test_index]\n",
    "        Y_train, Y_test = train_y.iloc[train_index],train_y.iloc[test_index]\n",
    "\n",
    "        metrics = train_classifier(X_train,Y_train,X_test,Y_test,model)\n",
    "        sum_accu += metrics[0]\n",
    "        sum_pre += metrics[1]\n",
    "        sum_rec += metrics[2]\n",
    "    return (sum_accu/num_splits,sum_pre/num_splits,sum_rec/num_splits)\n"
   ]
  },
  {
   "cell_type": "markdown",
   "metadata": {},
   "source": [
    "#### Find best k (for K Nearest Neighbors)"
   ]
  },
  {
   "cell_type": "code",
   "execution_count": 25,
   "metadata": {},
   "outputs": [],
   "source": [
    "def sampled_range(mini, maxi, num):\n",
    "  if not num:\n",
    "    return []\n",
    "  lmini = math.log(mini)\n",
    "  lmaxi = math.log(maxi)\n",
    "  ldelta = (lmaxi - lmini) / (num - 1)\n",
    "  out = [x for x in set([int(math.exp(lmini + i * ldelta)) for i in range(num)])]\n",
    "  out.sort()\n",
    "  return out\n",
    "\n",
    "def find_best_k():\n",
    "  tested_k_values = sampled_range(1, 1000, 10)\n",
    "  max_accuracy, best_k = 0, 0\n",
    "  for k in tested_k_values:\n",
    "    model = KNeighborsClassifier(n_neighbors=k,weights='distance')\n",
    "    accuracy = cross_validation(model)[0]\n",
    "    if max_accuracy < accuracy:\n",
    "      max_accuracy = accuracy\n",
    "      best_k = k\n",
    "  return best_k"
   ]
  },
  {
   "cell_type": "markdown",
   "metadata": {},
   "source": [
    "#### Models"
   ]
  },
  {
   "cell_type": "code",
   "execution_count": 39,
   "metadata": {},
   "outputs": [],
   "source": [
    "best_k = find_best_k()\n",
    "knn = KNeighborsClassifier(n_neighbors=best_k,weights='distance')\n",
    "reg = LogisticRegression(random_state=0)\n",
    "bay = GaussianNB()\n",
    "svm = SVC(C=10, class_weight='balanced', coef0=0.0,\n",
    "  decision_function_shape='ovr', degree=3, gamma='auto', kernel='linear', cache_size=3000)\n",
    "\n",
    "models = [knn,reg,bay]"
   ]
  },
  {
   "cell_type": "code",
   "execution_count": 27,
   "metadata": {},
   "outputs": [
    {
     "data": {
      "text/plain": [
       "99"
      ]
     },
     "execution_count": 27,
     "metadata": {},
     "output_type": "execute_result"
    }
   ],
   "source": [
    "best_k"
   ]
  },
  {
   "cell_type": "markdown",
   "metadata": {},
   "source": [
    "#### Launch training"
   ]
  },
  {
   "cell_type": "code",
   "execution_count": null,
   "metadata": {},
   "outputs": [],
   "source": [
    "for model in models:\n",
    "    print(model,cross_validation(model))"
   ]
  },
  {
   "cell_type": "markdown",
   "metadata": {},
   "source": [
    "| Model         | Accuracy     | Precision | Recall\n",
    "|--------------|-----------|------------|---|\n",
    "| KNeighborsClassifier | 73.0 %     | 28.4 %| 41.1 %\n",
    "| LogisticRegression      | 71.7 %  | 32.4 %| 33.4 %\n",
    "| Naive Bayes | 71.7 % | 38.9 % | 40.0 %\n",
    "| SVC | 61.6 % | 35.4 % | 63.8 % "
   ]
  },
  {
   "cell_type": "code",
   "execution_count": null,
   "metadata": {},
   "outputs": [],
   "source": [
    "model_choosen = [knn,reg,bay]\n",
    "\n",
    "for model in model_choosen:\n",
    "    print(model,train_classifier(train_x,train_y,test_x,test_y,model))"
   ]
  },
  {
   "cell_type": "markdown",
   "metadata": {},
   "source": [
    "| Model         | Accuracy     | Precision | Recall\n",
    "|--------------|-----------|------------|---|\n",
    "| KNeighborsClassifier | 64.4 %     | 25.4 %| 50.8%\n",
    "| LogisticRegression      | 64.4 %  | 25.4 %| 50.8 %\n",
    "| Naive Bayes | 61.6 % |25.4 % | 50.8 %"
   ]
  }
 ],
 "metadata": {
  "kernelspec": {
   "display_name": "Python 3.8.8 ('base')",
   "language": "python",
   "name": "python3"
  },
  "language_info": {
   "codemirror_mode": {
    "name": "ipython",
    "version": 3
   },
   "file_extension": ".py",
   "mimetype": "text/x-python",
   "name": "python",
   "nbconvert_exporter": "python",
   "pygments_lexer": "ipython3",
   "version": "3.8.8"
  },
  "orig_nbformat": 4,
  "vscode": {
   "interpreter": {
    "hash": "356d512bcc389e865b44622b3a41431d1080877e063af7abff8374af748e682e"
   }
  }
 },
 "nbformat": 4,
 "nbformat_minor": 2
}
